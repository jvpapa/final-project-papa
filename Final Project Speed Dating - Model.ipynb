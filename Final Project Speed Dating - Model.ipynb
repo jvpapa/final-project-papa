{
 "cells": [
  {
   "cell_type": "markdown",
   "metadata": {},
   "source": [
    "# Final Project, Part 4: Technical Notebook\n",
    "\n",
    "## Build and document a working model.\n",
    "By now, you're ready to apply your modeling skills to make machine learning predictions. Your goal for this project is to develop a working predictive model or process to resolve your problem statement. You should document your work in a technical notebook that can be shared with your peers.\n",
    "\n",
    "Build upon your earlier EDA notebook, expanding on your statistical analysis, and include your final model, along with any specific performance metrics and evaluation criteria. Organize your information clearly for an external audience, including a table of contents and clearly demarcated sections, using markdown to create subheaders or descriptions as needed. Finally, include comments on all of your code.\n",
    "\n",
    "## Requirements\n",
    "\n",
    "A detailed Jupyter Notebook with a summary of your: statistical analysis, model, and evaluation metrics.\n",
    "Use markdown to clearly organize all of your notebook's information.\n",
    "Include comments on all of your code.\n",
    "Note: Here are some things to consider in your notebook: sample size, correlations, feature importance, unexplained variance or outliers, variable selection, train/test comparison, and any relationships between your target and independent variables."
   ]
  },
  {
   "cell_type": "markdown",
   "metadata": {},
   "source": [
    "\n",
    "- Try Linear Regression, Decision Trees/Random Forests\n",
    "- Do 5 folds Cross Validation, and examine metrics\n",
    "\n"
   ]
  },
  {
   "cell_type": "markdown",
   "metadata": {
    "collapsed": true
   },
   "source": [
    "# Predicting Attractiveness - Models\n",
    "\n",
    "Can we predict attractiveness based on non-image data?  Does it differ for males vs females?\n",
    "\n",
    "## Let's try Classifier Decision Trees\n",
    "This could provide insight into a subconscious decision making process when determining attractiveness\n"
   ]
  },
  {
   "cell_type": "code",
   "execution_count": 211,
   "metadata": {
    "collapsed": true
   },
   "outputs": [],
   "source": [
    "import pandas as pd\n",
    "import numpy as np\n",
    "import seaborn as sns\n",
    "from matplotlib import pyplot as plt\n",
    " \n",
    "%matplotlib inline"
   ]
  },
  {
   "cell_type": "markdown",
   "metadata": {},
   "source": [
    "## Read in data and Preprocess"
   ]
  },
  {
   "cell_type": "code",
   "execution_count": 212,
   "metadata": {},
   "outputs": [
    {
     "name": "stdout",
     "output_type": "stream",
     "text": [
      "(8378, 195)\n"
     ]
    }
   ],
   "source": [
    "# Read data\n",
    "data = pd.read_csv('Speed Dating Data.csv')\n",
    "print data.shape"
   ]
  },
  {
   "cell_type": "code",
   "execution_count": 213,
   "metadata": {},
   "outputs": [
    {
     "data": {
      "text/plain": [
       "(8378, 15)"
      ]
     },
     "execution_count": 213,
     "metadata": {},
     "output_type": "execute_result"
    }
   ],
   "source": [
    "# Extract Columns of interest\n",
    "personal = [u'iid', u'gender', u'age', u'field_cd', u'career_c']\n",
    "attitude = [u'goal', u'exphappy']\n",
    "self_perception = [u'attr3_1', u'sinc3_1', u'fun3_1', u'intel3_1', u'amb3_1']\n",
    "behaviors = [u'date', u'go_out']\n",
    "interests = [u'sports', u'tvsports', u'exercise', u'dining', u'museums',\n",
    "       u'art', u'hiking', u'gaming', u'clubbing', u'reading', u'tv',\n",
    "       u'theater', u'movies', u'concerts', u'music', u'shopping', u'yoga']\n",
    "pred = ['attr_o']\n",
    "columns = personal + pred + attitude + self_perception + behaviors\n",
    "data = data[columns]\n",
    "data.shape\n"
   ]
  },
  {
   "cell_type": "code",
   "execution_count": 214,
   "metadata": {},
   "outputs": [
    {
     "data": {
      "text/plain": [
       "<matplotlib.text.Text at 0x7a9a0400>"
      ]
     },
     "execution_count": 214,
     "metadata": {},
     "output_type": "execute_result"
    },
    {
     "data": {
      "image/png": "[encoded data removed]",
      "text/plain": [
       "<matplotlib.figure.Figure at 0x41279fd0>"
      ]
     },
     "metadata": {},
     "output_type": "display_data"
    }
   ],
   "source": [
    "# Drop rows with any nulls\n",
    "data.dropna(how='any', inplace=True);\n",
    "\n",
    "# Take most popular attr score for each subject\n",
    "df = data.groupby('iid').agg(lambda x:x.value_counts().index[0])\n",
    "ax = df.attr_o.hist();\n",
    "plt.title('Attractiveness Score Histogram')"
   ]
  },
  {
   "cell_type": "markdown",
   "metadata": {},
   "source": [
    "### Decision Trees"
   ]
  },
  {
   "cell_type": "code",
   "execution_count": 216,
   "metadata": {
    "collapsed": true
   },
   "outputs": [],
   "source": [
    "# Try Classifier Tree\n",
    "import numpy as np\n",
    "from sklearn.tree import DecisionTreeClassifier\n",
    "\n",
    "from sklearn.model_selection import cross_val_score, cross_val_predict\n",
    "from sklearn import metrics"
   ]
  },
  {
   "cell_type": "code",
   "execution_count": 230,
   "metadata": {},
   "outputs": [
    {
     "name": "stdout",
     "output_type": "stream",
     "text": [
      "0.202519618995\n",
      "[ 0.13636364  0.26190476  0.21428571  0.15        0.10526316  0.21052632\n",
      "  0.26315789  0.21621622  0.24324324  0.25        0.19444444  0.19444444\n",
      "  0.27777778  0.11764706]\n"
     ]
    },
    {
     "data": {
      "text/html": [
       "<div>\n",
       "<style>\n",
       "    .dataframe thead tr:only-child th {\n",
       "        text-align: right;\n",
       "    }\n",
       "\n",
       "    .dataframe thead th {\n",
       "        text-align: left;\n",
       "    }\n",
       "\n",
       "    .dataframe tbody tr th {\n",
       "        vertical-align: top;\n",
       "    }\n",
       "</style>\n",
       "<table border=\"1\" class=\"dataframe\">\n",
       "  <thead>\n",
       "    <tr style=\"text-align: right;\">\n",
       "      <th></th>\n",
       "      <th>feature</th>\n",
       "      <th>importance</th>\n",
       "    </tr>\n",
       "  </thead>\n",
       "  <tbody>\n",
       "    <tr>\n",
       "      <th>0</th>\n",
       "      <td>gender</td>\n",
       "      <td>0.025814</td>\n",
       "    </tr>\n",
       "    <tr>\n",
       "      <th>1</th>\n",
       "      <td>age</td>\n",
       "      <td>0.122294</td>\n",
       "    </tr>\n",
       "    <tr>\n",
       "      <th>2</th>\n",
       "      <td>field_cd</td>\n",
       "      <td>0.088026</td>\n",
       "    </tr>\n",
       "    <tr>\n",
       "      <th>3</th>\n",
       "      <td>career_c</td>\n",
       "      <td>0.044526</td>\n",
       "    </tr>\n",
       "    <tr>\n",
       "      <th>4</th>\n",
       "      <td>goal</td>\n",
       "      <td>0.063704</td>\n",
       "    </tr>\n",
       "    <tr>\n",
       "      <th>5</th>\n",
       "      <td>exphappy</td>\n",
       "      <td>0.102648</td>\n",
       "    </tr>\n",
       "    <tr>\n",
       "      <th>6</th>\n",
       "      <td>attr3_1</td>\n",
       "      <td>0.072502</td>\n",
       "    </tr>\n",
       "    <tr>\n",
       "      <th>7</th>\n",
       "      <td>sinc3_1</td>\n",
       "      <td>0.060175</td>\n",
       "    </tr>\n",
       "    <tr>\n",
       "      <th>8</th>\n",
       "      <td>fun3_1</td>\n",
       "      <td>0.086430</td>\n",
       "    </tr>\n",
       "    <tr>\n",
       "      <th>9</th>\n",
       "      <td>intel3_1</td>\n",
       "      <td>0.057624</td>\n",
       "    </tr>\n",
       "    <tr>\n",
       "      <th>10</th>\n",
       "      <td>amb3_1</td>\n",
       "      <td>0.112765</td>\n",
       "    </tr>\n",
       "    <tr>\n",
       "      <th>11</th>\n",
       "      <td>date</td>\n",
       "      <td>0.092689</td>\n",
       "    </tr>\n",
       "    <tr>\n",
       "      <th>12</th>\n",
       "      <td>go_out</td>\n",
       "      <td>0.070805</td>\n",
       "    </tr>\n",
       "  </tbody>\n",
       "</table>\n",
       "</div>"
      ],
      "text/plain": [
       "     feature  importance\n",
       "0     gender    0.025814\n",
       "1        age    0.122294\n",
       "2   field_cd    0.088026\n",
       "3   career_c    0.044526\n",
       "4       goal    0.063704\n",
       "5   exphappy    0.102648\n",
       "6    attr3_1    0.072502\n",
       "7    sinc3_1    0.060175\n",
       "8     fun3_1    0.086430\n",
       "9   intel3_1    0.057624\n",
       "10    amb3_1    0.112765\n",
       "11      date    0.092689\n",
       "12    go_out    0.070805"
      ]
     },
     "execution_count": 230,
     "metadata": {},
     "output_type": "execute_result"
    }
   ],
   "source": [
    "X = df.drop(['attr_o'], axis=1, inplace=False)\n",
    "y = df.attr_o\n",
    "\n",
    "# Fit a classification tree with max_depth=2 on all data.\n",
    "from sklearn.tree import DecisionTreeClassifier\n",
    "\n",
    "treeclf = DecisionTreeClassifier(max_depth=None, random_state=1)\n",
    "treeclf.fit(X, y)\n",
    "\n",
    "scores = cross_val_score(treeclf, X, y, cv=14, scoring='accuracy')\n",
    "print np.mean(scores)\n",
    "print scores\n",
    "\n",
    "# \"Gini importance\" of each feature: the (normalized) total reduction of error brought by that feature.\n",
    "pd.DataFrame({'feature':X.columns, 'importance':treeclf.feature_importances_})"
   ]
  },
  {
   "cell_type": "code",
   "execution_count": 225,
   "metadata": {
    "collapsed": true
   },
   "outputs": [],
   "source": [
    "# Let's find optimal depth\n",
    "# List of values to try:\n",
    "max_depth_range = range(1, 20)\n",
    "\n",
    "# List to store the average accuracy for each value of max_depth:\n",
    "acc_scores = []\n",
    "\n",
    "for depth in max_depth_range:\n",
    "    treeclf = DecisionTreeClassifier(max_depth=depth, random_state=1)\n",
    "    scores = cross_val_score(treeclf, X, y, cv=14, scoring='accuracy')\n",
    "    acc_scores.append(np.mean(scores))"
   ]
  },
  {
   "cell_type": "code",
   "execution_count": 226,
   "metadata": {},
   "outputs": [
    {
     "data": {
      "image/png": "[encoded data removed]",
      "text/plain": [
       "<matplotlib.figure.Figure at 0x6cc35048>"
      ]
     },
     "metadata": {},
     "output_type": "display_data"
    }
   ],
   "source": [
    "# Plot max_depth (x-axis) versus RMSE (y-axis).\n",
    "plt.plot(max_depth_range, acc_scores);\n",
    "plt.xlabel('max_depth');\n",
    "plt.ylabel('Accuracy (higher is better)');"
   ]
  },
  {
   "cell_type": "code",
   "execution_count": 231,
   "metadata": {},
   "outputs": [
    {
     "name": "stdout",
     "output_type": "stream",
     "text": [
      "0.240423649092\n",
      "[ 0.18181818  0.19047619  0.14285714  0.25        0.23684211  0.26315789\n",
      "  0.23684211  0.21621622  0.27027027  0.27777778  0.25        0.27777778\n",
      "  0.27777778  0.29411765]\n"
     ]
    },
    {
     "data": {
      "text/html": [
       "<div>\n",
       "<style>\n",
       "    .dataframe thead tr:only-child th {\n",
       "        text-align: right;\n",
       "    }\n",
       "\n",
       "    .dataframe thead th {\n",
       "        text-align: left;\n",
       "    }\n",
       "\n",
       "    .dataframe tbody tr th {\n",
       "        vertical-align: top;\n",
       "    }\n",
       "</style>\n",
       "<table border=\"1\" class=\"dataframe\">\n",
       "  <thead>\n",
       "    <tr style=\"text-align: right;\">\n",
       "      <th></th>\n",
       "      <th>feature</th>\n",
       "      <th>importance</th>\n",
       "    </tr>\n",
       "  </thead>\n",
       "  <tbody>\n",
       "    <tr>\n",
       "      <th>0</th>\n",
       "      <td>gender</td>\n",
       "      <td>0.000000</td>\n",
       "    </tr>\n",
       "    <tr>\n",
       "      <th>1</th>\n",
       "      <td>age</td>\n",
       "      <td>0.328263</td>\n",
       "    </tr>\n",
       "    <tr>\n",
       "      <th>2</th>\n",
       "      <td>field_cd</td>\n",
       "      <td>0.000000</td>\n",
       "    </tr>\n",
       "    <tr>\n",
       "      <th>3</th>\n",
       "      <td>career_c</td>\n",
       "      <td>0.326792</td>\n",
       "    </tr>\n",
       "    <tr>\n",
       "      <th>4</th>\n",
       "      <td>goal</td>\n",
       "      <td>0.000000</td>\n",
       "    </tr>\n",
       "    <tr>\n",
       "      <th>5</th>\n",
       "      <td>exphappy</td>\n",
       "      <td>0.000000</td>\n",
       "    </tr>\n",
       "    <tr>\n",
       "      <th>6</th>\n",
       "      <td>attr3_1</td>\n",
       "      <td>0.000000</td>\n",
       "    </tr>\n",
       "    <tr>\n",
       "      <th>7</th>\n",
       "      <td>sinc3_1</td>\n",
       "      <td>0.000000</td>\n",
       "    </tr>\n",
       "    <tr>\n",
       "      <th>8</th>\n",
       "      <td>fun3_1</td>\n",
       "      <td>0.000000</td>\n",
       "    </tr>\n",
       "    <tr>\n",
       "      <th>9</th>\n",
       "      <td>intel3_1</td>\n",
       "      <td>0.344945</td>\n",
       "    </tr>\n",
       "    <tr>\n",
       "      <th>10</th>\n",
       "      <td>amb3_1</td>\n",
       "      <td>0.000000</td>\n",
       "    </tr>\n",
       "    <tr>\n",
       "      <th>11</th>\n",
       "      <td>date</td>\n",
       "      <td>0.000000</td>\n",
       "    </tr>\n",
       "    <tr>\n",
       "      <th>12</th>\n",
       "      <td>go_out</td>\n",
       "      <td>0.000000</td>\n",
       "    </tr>\n",
       "  </tbody>\n",
       "</table>\n",
       "</div>"
      ],
      "text/plain": [
       "     feature  importance\n",
       "0     gender    0.000000\n",
       "1        age    0.328263\n",
       "2   field_cd    0.000000\n",
       "3   career_c    0.326792\n",
       "4       goal    0.000000\n",
       "5   exphappy    0.000000\n",
       "6    attr3_1    0.000000\n",
       "7    sinc3_1    0.000000\n",
       "8     fun3_1    0.000000\n",
       "9   intel3_1    0.344945\n",
       "10    amb3_1    0.000000\n",
       "11      date    0.000000\n",
       "12    go_out    0.000000"
      ]
     },
     "execution_count": 231,
     "metadata": {},
     "output_type": "execute_result"
    }
   ],
   "source": [
    "X = df.drop(['attr_o'], axis=1, inplace=False)\n",
    "y = df.attr_o\n",
    "\n",
    "# Fit a classification tree with max_depth=2 on all data.\n",
    "from sklearn.tree import DecisionTreeClassifier\n",
    "\n",
    "treeclf = DecisionTreeClassifier(max_depth=2, random_state=1)\n",
    "treeclf.fit(X, y)\n",
    "\n",
    "scores = cross_val_score(treeclf, X, y, cv=14, scoring='accuracy')\n",
    "print np.mean(scores)\n",
    "print scores\n",
    "\n",
    "# \"Gini importance\" of each feature: the (normalized) total reduction of error brought by that feature.\n",
    "pd.DataFrame({'feature':X.columns, 'importance':treeclf.feature_importances_})"
   ]
  },
  {
   "cell_type": "markdown",
   "metadata": {},
   "source": [
    "### Slight improvement with max depth = 2"
   ]
  },
  {
   "cell_type": "code",
   "execution_count": 232,
   "metadata": {},
   "outputs": [
    {
     "name": "stderr",
     "output_type": "stream",
     "text": [
      "'dot' is not recognized as an internal or external command,\n",
      "operable program or batch file.\n"
     ]
    }
   ],
   "source": [
    "# Create a Graphviz file.\n",
    "from sklearn.tree import export_graphviz\n",
    "export_graphviz(treeclf, out_file='./tree.dot', feature_names=X.columns)\n",
    "!dot -Tpng tree.dot -o tree.png"
   ]
  },
  {
   "cell_type": "code",
   "execution_count": 233,
   "metadata": {},
   "outputs": [
    {
     "data": {
      "text/plain": [
       "7.0     0.260300\n",
       "6.0     0.237828\n",
       "8.0     0.174157\n",
       "5.0     0.162921\n",
       "4.0     0.086142\n",
       "9.0     0.039326\n",
       "3.0     0.024345\n",
       "10.0    0.007491\n",
       "2.0     0.005618\n",
       "1.0     0.001873\n",
       "Name: attr_o, dtype: float64"
      ]
     },
     "execution_count": 233,
     "metadata": {},
     "output_type": "execute_result"
    }
   ],
   "source": [
    "# Check Null Accuracy\n",
    "y.value_counts()/y.count()"
   ]
  },
  {
   "cell_type": "markdown",
   "metadata": {
    "collapsed": true
   },
   "source": [
    "## Null Accuracy of 0.26 by always choosing 7.0.  The model shows 0.24 which is not better than that."
   ]
  },
  {
   "cell_type": "markdown",
   "metadata": {
    "collapsed": true
   },
   "source": [
    "# Let's Try Logistic Regression"
   ]
  },
  {
   "cell_type": "code",
   "execution_count": 294,
   "metadata": {},
   "outputs": [
    {
     "data": {
      "text/plain": [
       "0.26119402985074625"
      ]
     },
     "execution_count": 294,
     "metadata": {},
     "output_type": "execute_result"
    }
   ],
   "source": [
    "# Fit a logistic regression model and store the class predictions.\n",
    "from sklearn.linear_model import LogisticRegression\n",
    "\n",
    "LR = LogisticRegression()\n",
    "\n",
    "#features = ['attr3_1', 'fun3_1']\n",
    "features = ['gender'] + attitude + self_perception + behaviors\n",
    "X = df[features]\n",
    "y = df.attr_o\n",
    "\n",
    "from sklearn.model_selection import train_test_split\n",
    "\n",
    "X_train, X_test, y_train, y_test = train_test_split(X,y)\n",
    "\n",
    "LR.fit(X_train,y_train)\n",
    "\n",
    "y_pred = LR.predict(X_test)\n",
    "\n",
    "LR.score(X_test, y_test) # uses accuracy as score"
   ]
  },
  {
   "cell_type": "code",
   "execution_count": 295,
   "metadata": {},
   "outputs": [
    {
     "name": "stdout",
     "output_type": "stream",
     "text": [
      "0.228055799241\n",
      "[ 0.15909091  0.23809524  0.21428571  0.2         0.21052632  0.26315789\n",
      "  0.18421053  0.35135135  0.13513514  0.30555556  0.19444444  0.25\n",
      "  0.22222222  0.26470588]\n"
     ]
    }
   ],
   "source": [
    "# Try Cross Validation\n",
    "scores = cross_val_score(LR, X, y, cv=14, scoring='accuracy')\n",
    "print np.mean(scores)\n",
    "print scores"
   ]
  },
  {
   "cell_type": "markdown",
   "metadata": {},
   "source": [
    "### -> Still Not better than Baseline Accuracy"
   ]
  },
  {
   "cell_type": "markdown",
   "metadata": {},
   "source": [
    "# Convert Prediction to Binary Classifier\n",
    "### Use binary attractive yes or no from >= 7.0 attr_o score"
   ]
  },
  {
   "cell_type": "code",
   "execution_count": 298,
   "metadata": {},
   "outputs": [],
   "source": [
    "# Most attractive\n",
    "y_class = np.where(y >= 7.0, 1, 0)"
   ]
  },
  {
   "cell_type": "code",
   "execution_count": 299,
   "metadata": {},
   "outputs": [
    {
     "data": {
      "text/plain": [
       "0.58955223880597019"
      ]
     },
     "execution_count": 299,
     "metadata": {},
     "output_type": "execute_result"
    }
   ],
   "source": [
    "X_train, X_test, y_train, y_test = train_test_split(X,y_class)\n",
    "\n",
    "LR.fit(X_train,y_train)\n",
    "\n",
    "y_pred = LR.predict(X_test)\n",
    "\n",
    "LR.score(X_test, y_test) # uses accuracy as score"
   ]
  },
  {
   "cell_type": "code",
   "execution_count": 300,
   "metadata": {},
   "outputs": [
    {
     "data": {
      "text/plain": [
       "0.48749999999999999"
      ]
     },
     "execution_count": 300,
     "metadata": {},
     "output_type": "execute_result"
    }
   ],
   "source": [
    "y_train.mean()"
   ]
  },
  {
   "cell_type": "code",
   "execution_count": 314,
   "metadata": {},
   "outputs": [
    {
     "data": {
      "text/plain": [
       "array([[19, 49],\n",
       "       [10, 56]])"
      ]
     },
     "execution_count": 314,
     "metadata": {},
     "output_type": "execute_result"
    }
   ],
   "source": [
    "# Let's look at Confusion Matrix\n",
    "metrics.confusion_matrix(y_test, y_pred)"
   ]
  },
  {
   "cell_type": "code",
   "execution_count": 305,
   "metadata": {},
   "outputs": [
    {
     "name": "stdout",
     "output_type": "stream",
     "text": [
      "0.548592114382\n",
      "[ 0.56410256  0.56410256  0.69230769  0.51282051  0.41025641  0.57894737\n",
      "  0.57894737  0.60526316  0.55263158  0.57894737  0.44736842  0.59459459\n",
      "  0.54054054  0.45945946]\n"
     ]
    }
   ],
   "source": [
    "# Try Cross Validation with score as recall\n",
    "# Try Cross Validation\n",
    "scores = cross_val_score(LR, X, y_class, cv=14, scoring='accuracy')\n",
    "print np.mean(scores)\n",
    "print scores"
   ]
  },
  {
   "cell_type": "markdown",
   "metadata": {},
   "source": [
    "## Seems slightly better than the baseline"
   ]
  },
  {
   "cell_type": "code",
   "execution_count": 303,
   "metadata": {},
   "outputs": [
    {
     "data": {
      "text/plain": [
       "Index([u'gender', u'goal', u'exphappy', u'attr3_1', u'sinc3_1', u'fun3_1',\n",
       "       u'intel3_1', u'amb3_1', u'date', u'go_out'],\n",
       "      dtype='object')"
      ]
     },
     "execution_count": 303,
     "metadata": {},
     "output_type": "execute_result"
    }
   ],
   "source": [
    "X.columns"
   ]
  },
  {
   "cell_type": "code",
   "execution_count": 306,
   "metadata": {},
   "outputs": [
    {
     "name": "stdout",
     "output_type": "stream",
     "text": [
      "0.546319020003\n",
      "[ 0.69230769  0.58974359  0.61538462  0.53846154  0.43589744  0.5\n",
      "  0.57894737  0.55263158  0.55263158  0.55263158  0.52631579  0.54054054\n",
      "  0.56756757  0.40540541]\n"
     ]
    }
   ],
   "source": [
    "# Try Reducing Features\n",
    "# Try Cross Validation\n",
    "features = ['gender', 'attr3_1', 'fun3_1', 'intel3_1']\n",
    "scores = cross_val_score(LR, X[features], y_class, cv=14, scoring='accuracy')\n",
    "print np.mean(scores)\n",
    "print scores"
   ]
  },
  {
   "cell_type": "markdown",
   "metadata": {},
   "source": [
    "## Reducing Features yields approx the same accuracy"
   ]
  }
 ],
 "metadata": {
  "kernelspec": {
   "display_name": "Python 2",
   "language": "python",
   "name": "python2"
  },
  "language_info": {
   "codemirror_mode": {
    "name": "ipython",
    "version": 2
   },
   "file_extension": ".py",
   "mimetype": "text/x-python",
   "name": "python",
   "nbconvert_exporter": "python",
   "pygments_lexer": "ipython2",
   "version": "2.7.13"
  }
 },
 "nbformat": 4,
 "nbformat_minor": 2
}

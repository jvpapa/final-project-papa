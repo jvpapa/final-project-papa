{
 "cells": [
  {
   "cell_type": "markdown",
   "metadata": {},
   "source": [
    "# Final Project, Part 4: Technical Notebook\n"
   ]
  },
  {
   "cell_type": "markdown",
   "metadata": {
    "collapsed": true
   },
   "source": [
    "# Predicting Attractiveness - Models\n",
    "\n",
    "Can we predict attractiveness based on non-image data?  Does it differ for males vs females?\n",
    "\n",
    "## Let's try Classifier Decision Trees\n",
    "This could provide insight into a subconscious decision making process when determining attractiveness\n"
   ]
  },
  {
   "cell_type": "code",
   "execution_count": 2,
   "metadata": {
    "collapsed": true
   },
   "outputs": [],
   "source": [
    "import pandas as pd\n",
    "import numpy as np\n",
    "import seaborn as sns\n",
    "from matplotlib import pyplot as plt\n",
    " \n",
    "%matplotlib inline"
   ]
  },
  {
   "cell_type": "markdown",
   "metadata": {},
   "source": [
    "## Read in data and Preprocess"
   ]
  },
  {
   "cell_type": "code",
   "execution_count": 3,
   "metadata": {},
   "outputs": [
    {
     "name": "stdout",
     "output_type": "stream",
     "text": [
      "(8378, 195)\n"
     ]
    }
   ],
   "source": [
    "# Read data\n",
    "data = pd.read_csv('Speed Dating Data.csv')\n",
    "print data.shape"
   ]
  },
  {
   "cell_type": "code",
   "execution_count": 4,
   "metadata": {},
   "outputs": [
    {
     "data": {
      "text/plain": [
       "(8378, 15)"
      ]
     },
     "execution_count": 4,
     "metadata": {},
     "output_type": "execute_result"
    }
   ],
   "source": [
    "# Extract Columns of interest\n",
    "personal = [u'iid', u'gender', u'age', u'field_cd', u'career_c']\n",
    "attitude = [u'goal', u'exphappy']\n",
    "self_perception = [u'attr3_1', u'sinc3_1', u'fun3_1', u'intel3_1', u'amb3_1']\n",
    "behaviors = [u'date', u'go_out']\n",
    "interests = [u'sports', u'tvsports', u'exercise', u'dining', u'museums',\n",
    "       u'art', u'hiking', u'gaming', u'clubbing', u'reading', u'tv',\n",
    "       u'theater', u'movies', u'concerts', u'music', u'shopping', u'yoga']\n",
    "pred = ['attr_o']\n",
    "columns = personal + pred + attitude + self_perception + behaviors\n",
    "data = data[columns]\n",
    "data.shape\n"
   ]
  },
  {
   "cell_type": "code",
   "execution_count": 5,
   "metadata": {},
   "outputs": [
    {
     "data": {
      "text/plain": [
       "<matplotlib.text.Text at 0x1111f6350>"
      ]
     },
     "execution_count": 5,
     "metadata": {},
     "output_type": "execute_result"
    },
    {
     "data": {
      "image/png": "[encoded data removed]",
      "text/plain": [
       "<matplotlib.figure.Figure at 0x10c3e6c90>"
      ]
     },
     "metadata": {},
     "output_type": "display_data"
    }
   ],
   "source": [
    "# Drop rows with any nulls\n",
    "data.dropna(how='any', inplace=True);\n",
    "\n",
    "# Take most popular attr score for each subject\n",
    "df = data.groupby('iid').agg(lambda x:x.value_counts().index[0])\n",
    "ax = df.attr_o.hist();\n",
    "plt.title('Attractiveness Score Histogram')"
   ]
  },
  {
   "cell_type": "markdown",
   "metadata": {},
   "source": [
    "### Decision Trees"
   ]
  },
  {
   "cell_type": "code",
   "execution_count": 6,
   "metadata": {
    "collapsed": true
   },
   "outputs": [],
   "source": [
    "# Try Classifier Tree\n",
    "import numpy as np\n",
    "from sklearn.tree import DecisionTreeClassifier\n",
    "\n",
    "from sklearn.model_selection import cross_val_score, cross_val_predict\n",
    "from sklearn import metrics"
   ]
  },
  {
   "cell_type": "code",
   "execution_count": 7,
   "metadata": {},
   "outputs": [
    {
     "name": "stdout",
     "output_type": "stream",
     "text": [
      "0.202519618995\n",
      "[ 0.13636364  0.26190476  0.21428571  0.15        0.10526316  0.21052632\n",
      "  0.26315789  0.21621622  0.24324324  0.25        0.19444444  0.19444444\n",
      "  0.27777778  0.11764706]\n"
     ]
    },
    {
     "name": "stderr",
     "output_type": "stream",
     "text": [
      "/Users/jpapa/anaconda/lib/python2.7/site-packages/sklearn/model_selection/_split.py:581: Warning: The least populated class in y has only 1 members, which is too few. The minimum number of groups for any class cannot be less than n_splits=14.\n",
      "  % (min_groups, self.n_splits)), Warning)\n"
     ]
    },
    {
     "data": {
      "text/html": [
       "<div>\n",
       "<style>\n",
       "    .dataframe thead tr:only-child th {\n",
       "        text-align: right;\n",
       "    }\n",
       "\n",
       "    .dataframe thead th {\n",
       "        text-align: left;\n",
       "    }\n",
       "\n",
       "    .dataframe tbody tr th {\n",
       "        vertical-align: top;\n",
       "    }\n",
       "</style>\n",
       "<table border=\"1\" class=\"dataframe\">\n",
       "  <thead>\n",
       "    <tr style=\"text-align: right;\">\n",
       "      <th></th>\n",
       "      <th>feature</th>\n",
       "      <th>importance</th>\n",
       "    </tr>\n",
       "  </thead>\n",
       "  <tbody>\n",
       "    <tr>\n",
       "      <th>0</th>\n",
       "      <td>gender</td>\n",
       "      <td>0.025814</td>\n",
       "    </tr>\n",
       "    <tr>\n",
       "      <th>1</th>\n",
       "      <td>age</td>\n",
       "      <td>0.122294</td>\n",
       "    </tr>\n",
       "    <tr>\n",
       "      <th>2</th>\n",
       "      <td>field_cd</td>\n",
       "      <td>0.088026</td>\n",
       "    </tr>\n",
       "    <tr>\n",
       "      <th>3</th>\n",
       "      <td>career_c</td>\n",
       "      <td>0.044526</td>\n",
       "    </tr>\n",
       "    <tr>\n",
       "      <th>4</th>\n",
       "      <td>goal</td>\n",
       "      <td>0.063704</td>\n",
       "    </tr>\n",
       "    <tr>\n",
       "      <th>5</th>\n",
       "      <td>exphappy</td>\n",
       "      <td>0.102648</td>\n",
       "    </tr>\n",
       "    <tr>\n",
       "      <th>6</th>\n",
       "      <td>attr3_1</td>\n",
       "      <td>0.072502</td>\n",
       "    </tr>\n",
       "    <tr>\n",
       "      <th>7</th>\n",
       "      <td>sinc3_1</td>\n",
       "      <td>0.060175</td>\n",
       "    </tr>\n",
       "    <tr>\n",
       "      <th>8</th>\n",
       "      <td>fun3_1</td>\n",
       "      <td>0.086430</td>\n",
       "    </tr>\n",
       "    <tr>\n",
       "      <th>9</th>\n",
       "      <td>intel3_1</td>\n",
       "      <td>0.057624</td>\n",
       "    </tr>\n",
       "    <tr>\n",
       "      <th>10</th>\n",
       "      <td>amb3_1</td>\n",
       "      <td>0.112765</td>\n",
       "    </tr>\n",
       "    <tr>\n",
       "      <th>11</th>\n",
       "      <td>date</td>\n",
       "      <td>0.092689</td>\n",
       "    </tr>\n",
       "    <tr>\n",
       "      <th>12</th>\n",
       "      <td>go_out</td>\n",
       "      <td>0.070805</td>\n",
       "    </tr>\n",
       "  </tbody>\n",
       "</table>\n",
       "</div>"
      ],
      "text/plain": [
       "     feature  importance\n",
       "0     gender    0.025814\n",
       "1        age    0.122294\n",
       "2   field_cd    0.088026\n",
       "3   career_c    0.044526\n",
       "4       goal    0.063704\n",
       "5   exphappy    0.102648\n",
       "6    attr3_1    0.072502\n",
       "7    sinc3_1    0.060175\n",
       "8     fun3_1    0.086430\n",
       "9   intel3_1    0.057624\n",
       "10    amb3_1    0.112765\n",
       "11      date    0.092689\n",
       "12    go_out    0.070805"
      ]
     },
     "execution_count": 7,
     "metadata": {},
     "output_type": "execute_result"
    }
   ],
   "source": [
    "X = df.drop(['attr_o'], axis=1, inplace=False)\n",
    "y = df.attr_o\n",
    "\n",
    "# Fit a classification tree with max_depth=2 on all data.\n",
    "from sklearn.tree import DecisionTreeClassifier\n",
    "\n",
    "treeclf = DecisionTreeClassifier(max_depth=None, random_state=1)\n",
    "treeclf.fit(X, y)\n",
    "\n",
    "scores = cross_val_score(treeclf, X, y, cv=14, scoring='accuracy')\n",
    "print np.mean(scores)\n",
    "print scores\n",
    "\n",
    "# \"Gini importance\" of each feature: the (normalized) total reduction of error brought by that feature.\n",
    "pd.DataFrame({'feature':X.columns, 'importance':treeclf.feature_importances_})"
   ]
  },
  {
   "cell_type": "code",
   "execution_count": 8,
   "metadata": {
    "collapsed": true
   },
   "outputs": [],
   "source": [
    "# Let's find optimal depth\n",
    "# List of values to try:\n",
    "max_depth_range = range(1, 20)\n",
    "\n",
    "# List to store the average accuracy for each value of max_depth:\n",
    "acc_scores = []\n",
    "\n",
    "for depth in max_depth_range:\n",
    "    treeclf = DecisionTreeClassifier(max_depth=depth, random_state=1)\n",
    "    scores = cross_val_score(treeclf, X, y, cv=14, scoring='accuracy')\n",
    "    acc_scores.append(np.mean(scores))"
   ]
  },
  {
   "cell_type": "code",
   "execution_count": 9,
   "metadata": {},
   "outputs": [
    {
     "data": {
      "image/png": "[encoded data removed]",
      "text/plain": [
       "<matplotlib.figure.Figure at 0x11223edd0>"
      ]
     },
     "metadata": {},
     "output_type": "display_data"
    }
   ],
   "source": [
    "# Plot max_depth (x-axis) versus RMSE (y-axis).\n",
    "plt.plot(max_depth_range, acc_scores);\n",
    "plt.xlabel('max_depth');\n",
    "plt.ylabel('Accuracy (higher is better)');"
   ]
  },
  {
   "cell_type": "code",
   "execution_count": 10,
   "metadata": {},
   "outputs": [
    {
     "name": "stdout",
     "output_type": "stream",
     "text": [
      "0.240423649092\n",
      "[ 0.18181818  0.19047619  0.14285714  0.25        0.23684211  0.26315789\n",
      "  0.23684211  0.21621622  0.27027027  0.27777778  0.25        0.27777778\n",
      "  0.27777778  0.29411765]\n"
     ]
    },
    {
     "data": {
      "text/html": [
       "<div>\n",
       "<style>\n",
       "    .dataframe thead tr:only-child th {\n",
       "        text-align: right;\n",
       "    }\n",
       "\n",
       "    .dataframe thead th {\n",
       "        text-align: left;\n",
       "    }\n",
       "\n",
       "    .dataframe tbody tr th {\n",
       "        vertical-align: top;\n",
       "    }\n",
       "</style>\n",
       "<table border=\"1\" class=\"dataframe\">\n",
       "  <thead>\n",
       "    <tr style=\"text-align: right;\">\n",
       "      <th></th>\n",
       "      <th>feature</th>\n",
       "      <th>importance</th>\n",
       "    </tr>\n",
       "  </thead>\n",
       "  <tbody>\n",
       "    <tr>\n",
       "      <th>0</th>\n",
       "      <td>gender</td>\n",
       "      <td>0.000000</td>\n",
       "    </tr>\n",
       "    <tr>\n",
       "      <th>1</th>\n",
       "      <td>age</td>\n",
       "      <td>0.328263</td>\n",
       "    </tr>\n",
       "    <tr>\n",
       "      <th>2</th>\n",
       "      <td>field_cd</td>\n",
       "      <td>0.000000</td>\n",
       "    </tr>\n",
       "    <tr>\n",
       "      <th>3</th>\n",
       "      <td>career_c</td>\n",
       "      <td>0.326792</td>\n",
       "    </tr>\n",
       "    <tr>\n",
       "      <th>4</th>\n",
       "      <td>goal</td>\n",
       "      <td>0.000000</td>\n",
       "    </tr>\n",
       "    <tr>\n",
       "      <th>5</th>\n",
       "      <td>exphappy</td>\n",
       "      <td>0.000000</td>\n",
       "    </tr>\n",
       "    <tr>\n",
       "      <th>6</th>\n",
       "      <td>attr3_1</td>\n",
       "      <td>0.000000</td>\n",
       "    </tr>\n",
       "    <tr>\n",
       "      <th>7</th>\n",
       "      <td>sinc3_1</td>\n",
       "      <td>0.000000</td>\n",
       "    </tr>\n",
       "    <tr>\n",
       "      <th>8</th>\n",
       "      <td>fun3_1</td>\n",
       "      <td>0.000000</td>\n",
       "    </tr>\n",
       "    <tr>\n",
       "      <th>9</th>\n",
       "      <td>intel3_1</td>\n",
       "      <td>0.344945</td>\n",
       "    </tr>\n",
       "    <tr>\n",
       "      <th>10</th>\n",
       "      <td>amb3_1</td>\n",
       "      <td>0.000000</td>\n",
       "    </tr>\n",
       "    <tr>\n",
       "      <th>11</th>\n",
       "      <td>date</td>\n",
       "      <td>0.000000</td>\n",
       "    </tr>\n",
       "    <tr>\n",
       "      <th>12</th>\n",
       "      <td>go_out</td>\n",
       "      <td>0.000000</td>\n",
       "    </tr>\n",
       "  </tbody>\n",
       "</table>\n",
       "</div>"
      ],
      "text/plain": [
       "     feature  importance\n",
       "0     gender    0.000000\n",
       "1        age    0.328263\n",
       "2   field_cd    0.000000\n",
       "3   career_c    0.326792\n",
       "4       goal    0.000000\n",
       "5   exphappy    0.000000\n",
       "6    attr3_1    0.000000\n",
       "7    sinc3_1    0.000000\n",
       "8     fun3_1    0.000000\n",
       "9   intel3_1    0.344945\n",
       "10    amb3_1    0.000000\n",
       "11      date    0.000000\n",
       "12    go_out    0.000000"
      ]
     },
     "execution_count": 10,
     "metadata": {},
     "output_type": "execute_result"
    }
   ],
   "source": [
    "X = df.drop(['attr_o'], axis=1, inplace=False)\n",
    "y = df.attr_o\n",
    "\n",
    "# Fit a classification tree with max_depth=2 on all data.\n",
    "from sklearn.tree import DecisionTreeClassifier\n",
    "\n",
    "treeclf = DecisionTreeClassifier(max_depth=2, random_state=1)\n",
    "treeclf.fit(X, y)\n",
    "\n",
    "scores = cross_val_score(treeclf, X, y, cv=14, scoring='accuracy')\n",
    "print np.mean(scores)\n",
    "print scores\n",
    "\n",
    "# \"Gini importance\" of each feature: the (normalized) total reduction of error brought by that feature.\n",
    "pd.DataFrame({'feature':X.columns, 'importance':treeclf.feature_importances_})"
   ]
  },
  {
   "cell_type": "markdown",
   "metadata": {},
   "source": [
    "### Slight improvement with max depth = 2"
   ]
  },
  {
   "cell_type": "code",
   "execution_count": 11,
   "metadata": {
    "collapsed": true
   },
   "outputs": [],
   "source": [
    "# Create a Graphviz file.\n",
    "from sklearn.tree import export_graphviz\n",
    "export_graphviz(treeclf, out_file='./tree.dot', feature_names=X.columns)\n",
    "!dot -Tpng tree.dot -o tree.png"
   ]
  },
  {
   "cell_type": "markdown",
   "metadata": {},
   "source": [
    "<img src=\"tree.png\">"
   ]
  },
  {
   "cell_type": "code",
   "execution_count": 12,
   "metadata": {},
   "outputs": [
    {
     "data": {
      "text/plain": [
       "7.0     0.260300\n",
       "6.0     0.237828\n",
       "8.0     0.174157\n",
       "5.0     0.162921\n",
       "4.0     0.086142\n",
       "9.0     0.039326\n",
       "3.0     0.024345\n",
       "10.0    0.007491\n",
       "2.0     0.005618\n",
       "1.0     0.001873\n",
       "Name: attr_o, dtype: float64"
      ]
     },
     "execution_count": 12,
     "metadata": {},
     "output_type": "execute_result"
    }
   ],
   "source": [
    "# Check Null Accuracy\n",
    "y.value_counts()/y.count()"
   ]
  },
  {
   "cell_type": "markdown",
   "metadata": {
    "collapsed": true
   },
   "source": [
    "## Null Accuracy of 0.26 by always choosing 7.0.  The model shows 0.24 which is not better than that."
   ]
  },
  {
   "cell_type": "markdown",
   "metadata": {
    "collapsed": true
   },
   "source": [
    "# Let's Try Logistic Regression"
   ]
  },
  {
   "cell_type": "code",
   "execution_count": 12,
   "metadata": {},
   "outputs": [
    {
     "data": {
      "text/plain": [
       "0.20895522388059701"
      ]
     },
     "execution_count": 12,
     "metadata": {},
     "output_type": "execute_result"
    }
   ],
   "source": [
    "# Fit a logistic regression model and store the class predictions.\n",
    "from sklearn.linear_model import LogisticRegression\n",
    "\n",
    "LR = LogisticRegression()\n",
    "\n",
    "#features = ['attr3_1', 'fun3_1']\n",
    "features = ['gender'] + attitude + self_perception + behaviors\n",
    "X = df[features]\n",
    "y = df.attr_o\n",
    "\n",
    "from sklearn.model_selection import train_test_split\n",
    "\n",
    "X_train, X_test, y_train, y_test = train_test_split(X,y)\n",
    "\n",
    "LR.fit(X_train,y_train)\n",
    "\n",
    "y_pred = LR.predict(X_test)\n",
    "\n",
    "LR.score(X_test, y_test) # uses accuracy as score"
   ]
  },
  {
   "cell_type": "code",
   "execution_count": 13,
   "metadata": {},
   "outputs": [
    {
     "name": "stdout",
     "output_type": "stream",
     "text": [
      "0.228055799241\n",
      "[ 0.15909091  0.23809524  0.21428571  0.2         0.21052632  0.26315789\n",
      "  0.18421053  0.35135135  0.13513514  0.30555556  0.19444444  0.25\n",
      "  0.22222222  0.26470588]\n"
     ]
    }
   ],
   "source": [
    "# Try Cross Validation\n",
    "scores = cross_val_score(LR, X, y, cv=14, scoring='accuracy')\n",
    "print np.mean(scores)\n",
    "print scores"
   ]
  },
  {
   "cell_type": "markdown",
   "metadata": {},
   "source": [
    "### -> Still Not better than Baseline Accuracy"
   ]
  },
  {
   "cell_type": "markdown",
   "metadata": {},
   "source": [
    "# Convert Prediction to Binary Classifier\n",
    "### Use binary attractive yes or no from >= 7.0 attr_o score"
   ]
  },
  {
   "cell_type": "code",
   "execution_count": 14,
   "metadata": {
    "collapsed": true
   },
   "outputs": [],
   "source": [
    "# Most attractive\n",
    "y_class = np.where(y >= 7.0, 1, 0)"
   ]
  },
  {
   "cell_type": "code",
   "execution_count": 15,
   "metadata": {},
   "outputs": [
    {
     "data": {
      "text/plain": [
       "0.56716417910447758"
      ]
     },
     "execution_count": 15,
     "metadata": {},
     "output_type": "execute_result"
    }
   ],
   "source": [
    "X_train, X_test, y_train, y_test = train_test_split(X,y_class)\n",
    "\n",
    "LR.fit(X_train,y_train)\n",
    "\n",
    "y_pred = LR.predict(X_test)\n",
    "\n",
    "LR.score(X_test, y_test) # uses accuracy as score"
   ]
  },
  {
   "cell_type": "code",
   "execution_count": 16,
   "metadata": {},
   "outputs": [
    {
     "data": {
      "text/plain": [
       "0.47249999999999998"
      ]
     },
     "execution_count": 16,
     "metadata": {},
     "output_type": "execute_result"
    }
   ],
   "source": [
    "y_train.mean()"
   ]
  },
  {
   "cell_type": "code",
   "execution_count": 17,
   "metadata": {},
   "outputs": [
    {
     "data": {
      "text/plain": [
       "array([[40, 26],\n",
       "       [32, 36]])"
      ]
     },
     "execution_count": 17,
     "metadata": {},
     "output_type": "execute_result"
    }
   ],
   "source": [
    "# Let's look at Confusion Matrix\n",
    "metrics.confusion_matrix(y_test, y_pred)"
   ]
  },
  {
   "cell_type": "code",
   "execution_count": 18,
   "metadata": {},
   "outputs": [
    {
     "name": "stdout",
     "output_type": "stream",
     "text": [
      "0.548592114382\n",
      "[ 0.56410256  0.56410256  0.69230769  0.51282051  0.41025641  0.57894737\n",
      "  0.57894737  0.60526316  0.55263158  0.57894737  0.44736842  0.59459459\n",
      "  0.54054054  0.45945946]\n"
     ]
    }
   ],
   "source": [
    "# Try Cross Validation with score as recall\n",
    "# Try Cross Validation\n",
    "scores = cross_val_score(LR, X, y_class, cv=14, scoring='accuracy')\n",
    "print np.mean(scores)\n",
    "print scores"
   ]
  },
  {
   "cell_type": "markdown",
   "metadata": {},
   "source": [
    "## Seems slightly better than the baseline"
   ]
  },
  {
   "cell_type": "code",
   "execution_count": 19,
   "metadata": {},
   "outputs": [
    {
     "data": {
      "text/plain": [
       "Index([u'gender', u'goal', u'exphappy', u'attr3_1', u'sinc3_1', u'fun3_1',\n",
       "       u'intel3_1', u'amb3_1', u'date', u'go_out'],\n",
       "      dtype='object')"
      ]
     },
     "execution_count": 19,
     "metadata": {},
     "output_type": "execute_result"
    }
   ],
   "source": [
    "X.columns"
   ]
  },
  {
   "cell_type": "code",
   "execution_count": 20,
   "metadata": {},
   "outputs": [
    {
     "name": "stdout",
     "output_type": "stream",
     "text": [
      "0.546319020003\n",
      "[ 0.69230769  0.58974359  0.61538462  0.53846154  0.43589744  0.5\n",
      "  0.57894737  0.55263158  0.55263158  0.55263158  0.52631579  0.54054054\n",
      "  0.56756757  0.40540541]\n"
     ]
    }
   ],
   "source": [
    "# Try Reducing Features\n",
    "# Try Cross Validation\n",
    "features = ['gender', 'attr3_1', 'fun3_1', 'intel3_1']\n",
    "scores = cross_val_score(LR, X[features], y_class, cv=14, scoring='accuracy')\n",
    "print np.mean(scores)\n",
    "print scores"
   ]
  },
  {
   "cell_type": "markdown",
   "metadata": {},
   "source": [
    "## Reducing Features yields approx the same accuracy"
   ]
  },
  {
   "cell_type": "markdown",
   "metadata": {},
   "source": [
    "## Try Decision Tree Classifier (Binary Prediction, Separate Gender)"
   ]
  },
  {
   "cell_type": "code",
   "execution_count": 21,
   "metadata": {},
   "outputs": [
    {
     "name": "stdout",
     "output_type": "stream",
     "text": [
      "0.533625730994\n",
      "[ 0.7         0.5         0.45        0.35        0.52631579  0.36842105\n",
      "  0.63157895  0.55555556  0.61111111  0.61111111  0.66666667  0.61111111\n",
      "  0.5         0.38888889]\n"
     ]
    },
    {
     "data": {
      "text/html": [
       "<div>\n",
       "<style>\n",
       "    .dataframe thead tr:only-child th {\n",
       "        text-align: right;\n",
       "    }\n",
       "\n",
       "    .dataframe thead th {\n",
       "        text-align: left;\n",
       "    }\n",
       "\n",
       "    .dataframe tbody tr th {\n",
       "        vertical-align: top;\n",
       "    }\n",
       "</style>\n",
       "<table border=\"1\" class=\"dataframe\">\n",
       "  <thead>\n",
       "    <tr style=\"text-align: right;\">\n",
       "      <th></th>\n",
       "      <th>feature</th>\n",
       "      <th>importance</th>\n",
       "    </tr>\n",
       "  </thead>\n",
       "  <tbody>\n",
       "    <tr>\n",
       "      <th>0</th>\n",
       "      <td>gender</td>\n",
       "      <td>0.000000</td>\n",
       "    </tr>\n",
       "    <tr>\n",
       "      <th>1</th>\n",
       "      <td>attr3_1</td>\n",
       "      <td>0.372009</td>\n",
       "    </tr>\n",
       "    <tr>\n",
       "      <th>2</th>\n",
       "      <td>fun3_1</td>\n",
       "      <td>0.362427</td>\n",
       "    </tr>\n",
       "    <tr>\n",
       "      <th>3</th>\n",
       "      <td>intel3_1</td>\n",
       "      <td>0.265564</td>\n",
       "    </tr>\n",
       "  </tbody>\n",
       "</table>\n",
       "</div>"
      ],
      "text/plain": [
       "    feature  importance\n",
       "0    gender    0.000000\n",
       "1   attr3_1    0.372009\n",
       "2    fun3_1    0.362427\n",
       "3  intel3_1    0.265564"
      ]
     },
     "execution_count": 21,
     "metadata": {},
     "output_type": "execute_result"
    }
   ],
   "source": [
    "#features = ['gender', 'attr3_1', 'fun3_1', 'intel3_1']\n",
    "#features = ['gender'] + attitude + self_perception + behaviors\n",
    "#features = ['gender'] + self_perception\n",
    "#features = ['gender'] + self_perception + behaviors\n",
    "features =  ['gender', 'attr3_1', 'fun3_1', 'intel3_1']\n",
    "X = df[features]\n",
    "y = df.attr_o\n",
    "# Most attractive\n",
    "y_class = np.where(y >= 7.0, 1, 0)\n",
    "\n",
    "y = y_class[X.gender==0]\n",
    "X = X[X.gender==0]\n",
    "\n",
    "# Fit a classification tree with max_depth=2 on all data.\n",
    "from sklearn.tree import DecisionTreeClassifier\n",
    "\n",
    "treeclf = DecisionTreeClassifier(max_depth=4, random_state=1)\n",
    "treeclf.fit(X, y)\n",
    "\n",
    "scores = cross_val_score(treeclf, X, y, cv=14, scoring='accuracy')\n",
    "print np.mean(scores)\n",
    "print scores\n",
    "\n",
    "# \"Gini importance\" of each feature: the (normalized) total reduction of error brought by that feature.\n",
    "pd.DataFrame({'feature':X.columns, 'importance':treeclf.feature_importances_})"
   ]
  },
  {
   "cell_type": "code",
   "execution_count": 22,
   "metadata": {},
   "outputs": [
    {
     "data": {
      "text/plain": [
       "0.48127340823970038"
      ]
     },
     "execution_count": 22,
     "metadata": {},
     "output_type": "execute_result"
    }
   ],
   "source": [
    "y_class.mean()"
   ]
  },
  {
   "cell_type": "code",
   "execution_count": 25,
   "metadata": {},
   "outputs": [
    {
     "data": {
      "image/png": "[encoded data removed]",
      "text/plain": [
       "<matplotlib.figure.Figure at 0x115efd690>"
      ]
     },
     "metadata": {},
     "output_type": "display_data"
    }
   ],
   "source": [
    "# Let's find optimal depth\n",
    "# List of values to try:\n",
    "max_depth_range = range(1, 20)\n",
    "\n",
    "# List to store the average accuracy for each value of max_depth:\n",
    "acc_scores = []\n",
    "\n",
    "for depth in max_depth_range:\n",
    "    treeclf = DecisionTreeClassifier(max_depth=depth, random_state=1)\n",
    "    scores = cross_val_score(treeclf, X, y, cv=14, scoring='accuracy')\n",
    "    acc_scores.append(np.mean(scores))\n",
    "    \n",
    "# Plot max_depth (x-axis) versus RMSE (y-axis).\n",
    "plt.plot(max_depth_range, acc_scores);\n",
    "plt.xlabel('max_depth');\n",
    "plt.ylabel('Accuracy (higher is better)');"
   ]
  },
  {
   "cell_type": "code",
   "execution_count": null,
   "metadata": {
    "collapsed": true
   },
   "outputs": [],
   "source": []
  },
  {
   "cell_type": "markdown",
   "metadata": {},
   "source": [
    "## Try Random Forest Classifier (Categorical Prediction, Separate Gender)"
   ]
  },
  {
   "cell_type": "markdown",
   "metadata": {},
   "source": [
    "## Use features based on the paper? Taking out features that are preference based (age, etc.)"
   ]
  },
  {
   "cell_type": "code",
   "execution_count": 26,
   "metadata": {
    "collapsed": true
   },
   "outputs": [],
   "source": [
    "from sklearn.ensemble import RandomForestClassifier"
   ]
  },
  {
   "cell_type": "code",
   "execution_count": 27,
   "metadata": {
    "collapsed": true
   },
   "outputs": [],
   "source": [
    "features = attitude + self_perception + behaviors\n",
    "X = df[['gender'] + features]\n",
    "y = df.attr_o\n",
    "\n",
    "y = y[X.gender==0]\n",
    "X = X[X.gender==0]\n",
    "X.drop(['gender'], axis=1, inplace=True)"
   ]
  },
  {
   "cell_type": "code",
   "execution_count": 28,
   "metadata": {},
   "outputs": [
    {
     "data": {
      "text/plain": [
       "7.0     139\n",
       "6.0     127\n",
       "8.0      93\n",
       "5.0      87\n",
       "4.0      46\n",
       "9.0      21\n",
       "3.0      13\n",
       "10.0      4\n",
       "2.0       3\n",
       "1.0       1\n",
       "Name: attr_o, dtype: int64"
      ]
     },
     "execution_count": 28,
     "metadata": {},
     "output_type": "execute_result"
    }
   ],
   "source": [
    "df.attr_o.value_counts()"
   ]
  },
  {
   "cell_type": "code",
   "execution_count": 29,
   "metadata": {},
   "outputs": [
    {
     "data": {
      "text/plain": [
       "6.0    68\n",
       "8.0    65\n",
       "5.0    65\n",
       "7.0    65\n",
       "Name: attr_o, dtype: int64"
      ]
     },
     "execution_count": 29,
     "metadata": {},
     "output_type": "execute_result"
    }
   ],
   "source": [
    "# Some classes have too few members, compress\n",
    "y[y<5]=5\n",
    "y[y>8]=8\n",
    "y.value_counts()"
   ]
  },
  {
   "cell_type": "code",
   "execution_count": 30,
   "metadata": {},
   "outputs": [
    {
     "name": "stderr",
     "output_type": "stream",
     "text": [
      "[Parallel(n_jobs=1)]: Done 150 out of 150 | elapsed:    0.2s finished\n"
     ]
    },
    {
     "data": {
      "text/plain": [
       "RandomForestClassifier(bootstrap=True, class_weight=None, criterion='gini',\n",
       "            max_depth=None, max_features=3, max_leaf_nodes=None,\n",
       "            min_impurity_split=1e-07, min_samples_leaf=1,\n",
       "            min_samples_split=2, min_weight_fraction_leaf=0.0,\n",
       "            n_estimators=150, n_jobs=1, oob_score=True, random_state=1,\n",
       "            verbose=True, warm_start=False)"
      ]
     },
     "execution_count": 30,
     "metadata": {},
     "output_type": "execute_result"
    }
   ],
   "source": [
    "# max_features=5 is best and n_estimators=150 is sufficiently large.\n",
    "rfclf = RandomForestClassifier(n_estimators=150, max_features=3, oob_score=True, random_state=1, verbose=True)\n",
    "rfclf.fit(X, y)"
   ]
  },
  {
   "cell_type": "code",
   "execution_count": 31,
   "metadata": {},
   "outputs": [
    {
     "data": {
      "text/html": [
       "<div>\n",
       "<style>\n",
       "    .dataframe thead tr:only-child th {\n",
       "        text-align: right;\n",
       "    }\n",
       "\n",
       "    .dataframe thead th {\n",
       "        text-align: left;\n",
       "    }\n",
       "\n",
       "    .dataframe tbody tr th {\n",
       "        vertical-align: top;\n",
       "    }\n",
       "</style>\n",
       "<table border=\"1\" class=\"dataframe\">\n",
       "  <thead>\n",
       "    <tr style=\"text-align: right;\">\n",
       "      <th></th>\n",
       "      <th>feature</th>\n",
       "      <th>importance</th>\n",
       "    </tr>\n",
       "  </thead>\n",
       "  <tbody>\n",
       "    <tr>\n",
       "      <th>0</th>\n",
       "      <td>goal</td>\n",
       "      <td>0.087022</td>\n",
       "    </tr>\n",
       "    <tr>\n",
       "      <th>5</th>\n",
       "      <td>intel3_1</td>\n",
       "      <td>0.096508</td>\n",
       "    </tr>\n",
       "    <tr>\n",
       "      <th>8</th>\n",
       "      <td>go_out</td>\n",
       "      <td>0.096644</td>\n",
       "    </tr>\n",
       "    <tr>\n",
       "      <th>3</th>\n",
       "      <td>sinc3_1</td>\n",
       "      <td>0.103877</td>\n",
       "    </tr>\n",
       "    <tr>\n",
       "      <th>2</th>\n",
       "      <td>attr3_1</td>\n",
       "      <td>0.108239</td>\n",
       "    </tr>\n",
       "    <tr>\n",
       "      <th>4</th>\n",
       "      <td>fun3_1</td>\n",
       "      <td>0.114305</td>\n",
       "    </tr>\n",
       "    <tr>\n",
       "      <th>7</th>\n",
       "      <td>date</td>\n",
       "      <td>0.125194</td>\n",
       "    </tr>\n",
       "    <tr>\n",
       "      <th>6</th>\n",
       "      <td>amb3_1</td>\n",
       "      <td>0.125724</td>\n",
       "    </tr>\n",
       "    <tr>\n",
       "      <th>1</th>\n",
       "      <td>exphappy</td>\n",
       "      <td>0.142487</td>\n",
       "    </tr>\n",
       "  </tbody>\n",
       "</table>\n",
       "</div>"
      ],
      "text/plain": [
       "    feature  importance\n",
       "0      goal    0.087022\n",
       "5  intel3_1    0.096508\n",
       "8    go_out    0.096644\n",
       "3   sinc3_1    0.103877\n",
       "2   attr3_1    0.108239\n",
       "4    fun3_1    0.114305\n",
       "7      date    0.125194\n",
       "6    amb3_1    0.125724\n",
       "1  exphappy    0.142487"
      ]
     },
     "execution_count": 31,
     "metadata": {},
     "output_type": "execute_result"
    }
   ],
   "source": [
    "# Compute feature importances.\n",
    "pd.DataFrame({'feature':features, 'importance':rfclf.feature_importances_}).sort_values(by='importance')"
   ]
  },
  {
   "cell_type": "code",
   "execution_count": 32,
   "metadata": {},
   "outputs": [
    {
     "name": "stdout",
     "output_type": "stream",
     "text": [
      "0.266159695817\n"
     ]
    },
    {
     "name": "stderr",
     "output_type": "stream",
     "text": [
      "[Parallel(n_jobs=1)]: Done 150 out of 150 | elapsed:    0.1s finished\n",
      "[Parallel(n_jobs=1)]: Done 150 out of 150 | elapsed:    0.1s finished\n",
      "[Parallel(n_jobs=1)]: Done 150 out of 150 | elapsed:    0.1s finished\n",
      "[Parallel(n_jobs=1)]: Done 150 out of 150 | elapsed:    0.1s finished\n",
      "[Parallel(n_jobs=1)]: Done 150 out of 150 | elapsed:    0.2s finished\n",
      "[Parallel(n_jobs=1)]: Done 150 out of 150 | elapsed:    0.1s finished\n",
      "[Parallel(n_jobs=1)]: Done 150 out of 150 | elapsed:    0.1s finished\n",
      "[Parallel(n_jobs=1)]: Done 150 out of 150 | elapsed:    0.1s finished\n",
      "[Parallel(n_jobs=1)]: Done 150 out of 150 | elapsed:    0.1s finished\n",
      "[Parallel(n_jobs=1)]: Done 150 out of 150 | elapsed:    0.1s finished\n",
      "[Parallel(n_jobs=1)]: Done 150 out of 150 | elapsed:    0.2s finished\n",
      "[Parallel(n_jobs=1)]: Done 150 out of 150 | elapsed:    0.1s finished\n",
      "[Parallel(n_jobs=1)]: Done 150 out of 150 | elapsed:    0.2s finished\n",
      "[Parallel(n_jobs=1)]: Done 150 out of 150 | elapsed:    0.1s finished\n",
      "[Parallel(n_jobs=1)]: Done 150 out of 150 | elapsed:    0.1s finished\n",
      "[Parallel(n_jobs=1)]: Done 150 out of 150 | elapsed:    0.1s finished\n",
      "[Parallel(n_jobs=1)]: Done 150 out of 150 | elapsed:    0.2s finished\n",
      "[Parallel(n_jobs=1)]: Done 150 out of 150 | elapsed:    0.1s finished\n"
     ]
    },
    {
     "name": "stdout",
     "output_type": "stream",
     "text": [
      "[ 0.17857143  0.17857143  0.28571429  0.21428571  0.17857143  0.36        0.24\n",
      "  0.2         0.25        0.20833333]\n"
     ]
    },
    {
     "name": "stderr",
     "output_type": "stream",
     "text": [
      "[Parallel(n_jobs=1)]: Done 150 out of 150 | elapsed:    0.1s finished\n",
      "[Parallel(n_jobs=1)]: Done 150 out of 150 | elapsed:    0.1s finished\n"
     ]
    },
    {
     "data": {
      "text/plain": [
       "0.22940476190476194"
      ]
     },
     "execution_count": 32,
     "metadata": {},
     "output_type": "execute_result"
    }
   ],
   "source": [
    "# Compute the out-of-bag accuracy score.\n",
    "print(rfclf.oob_score_)\n",
    "\n",
    "# Find the average accuracy.\n",
    "scores = cross_val_score(rfclf, X, y, cv=10, scoring='accuracy')\n",
    "print scores\n",
    "np.mean(scores)"
   ]
  },
  {
   "cell_type": "markdown",
   "metadata": {},
   "source": [
    "## Try Decision Trees with low depth and gender based"
   ]
  },
  {
   "cell_type": "markdown",
   "metadata": {},
   "source": [
    "### Females"
   ]
  },
  {
   "cell_type": "code",
   "execution_count": 82,
   "metadata": {
    "collapsed": true
   },
   "outputs": [],
   "source": [
    "features = attitude + self_perception + behaviors\n",
    "X = df[['gender'] + features]\n",
    "y = df.attr_o\n",
    "\n",
    "y = y[X.gender==0]\n",
    "X = X[X.gender==0]\n",
    "X.drop(['gender'], axis=1, inplace=True)"
   ]
  },
  {
   "cell_type": "code",
   "execution_count": 83,
   "metadata": {},
   "outputs": [
    {
     "name": "stdout",
     "output_type": "stream",
     "text": [
      "6.0    0.258555\n",
      "8.0    0.247148\n",
      "5.0    0.247148\n",
      "7.0    0.247148\n",
      "Name: attr_o, dtype: float64\n"
     ]
    },
    {
     "data": {
      "image/png": "[encoded data removed]",
      "text/plain": [
       "<matplotlib.figure.Figure at 0x115919790>"
      ]
     },
     "metadata": {},
     "output_type": "display_data"
    }
   ],
   "source": [
    "# Some classes have too few members, compress\n",
    "y[y<5]=5\n",
    "y[y>8]=8\n",
    "ax = y.value_counts().sort_index().plot(kind='bar', color='pink')\n",
    "plt.title('Attractiveness Score (Female)')\n",
    "print y.value_counts()/y.count()"
   ]
  },
  {
   "cell_type": "code",
   "execution_count": 84,
   "metadata": {},
   "outputs": [
    {
     "data": {
      "image/png": "[encoded data removed]",
      "text/plain": [
       "<matplotlib.figure.Figure at 0x1168f5c50>"
      ]
     },
     "metadata": {},
     "output_type": "display_data"
    }
   ],
   "source": [
    "# Let's find optimal depth\n",
    "# List of values to try:\n",
    "max_depth_range = range(1, 20)\n",
    "\n",
    "# List to store the average accuracy for each value of max_depth:\n",
    "acc_scores = []\n",
    "\n",
    "for depth in max_depth_range:\n",
    "    treeclf = DecisionTreeClassifier(max_depth=depth, random_state=1)\n",
    "    scores = cross_val_score(treeclf, X, y, cv=14, scoring='accuracy')\n",
    "    acc_scores.append(np.mean(scores))\n",
    "    \n",
    "# Plot max_depth (x-axis) versus RMSE (y-axis).\n",
    "plt.plot(max_depth_range, acc_scores);\n",
    "plt.xlabel('max_depth');\n",
    "plt.ylabel('Accuracy (higher is better)');"
   ]
  },
  {
   "cell_type": "code",
   "execution_count": 85,
   "metadata": {},
   "outputs": [
    {
     "name": "stdout",
     "output_type": "stream",
     "text": [
      "0.317226890756\n",
      "[ 0.15        0.55        0.25        0.45        0.4         0.3         0.1\n",
      "  0.35        0.45        0.35294118  0.29411765  0.29411765  0.3125\n",
      "  0.1875    ]\n"
     ]
    },
    {
     "data": {
      "text/html": [
       "<div>\n",
       "<style>\n",
       "    .dataframe thead tr:only-child th {\n",
       "        text-align: right;\n",
       "    }\n",
       "\n",
       "    .dataframe thead th {\n",
       "        text-align: left;\n",
       "    }\n",
       "\n",
       "    .dataframe tbody tr th {\n",
       "        vertical-align: top;\n",
       "    }\n",
       "</style>\n",
       "<table border=\"1\" class=\"dataframe\">\n",
       "  <thead>\n",
       "    <tr style=\"text-align: right;\">\n",
       "      <th></th>\n",
       "      <th>feature</th>\n",
       "      <th>importance</th>\n",
       "    </tr>\n",
       "  </thead>\n",
       "  <tbody>\n",
       "    <tr>\n",
       "      <th>0</th>\n",
       "      <td>goal</td>\n",
       "      <td>0.084691</td>\n",
       "    </tr>\n",
       "    <tr>\n",
       "      <th>1</th>\n",
       "      <td>exphappy</td>\n",
       "      <td>0.168316</td>\n",
       "    </tr>\n",
       "    <tr>\n",
       "      <th>2</th>\n",
       "      <td>attr3_1</td>\n",
       "      <td>0.126810</td>\n",
       "    </tr>\n",
       "    <tr>\n",
       "      <th>3</th>\n",
       "      <td>sinc3_1</td>\n",
       "      <td>0.078420</td>\n",
       "    </tr>\n",
       "    <tr>\n",
       "      <th>4</th>\n",
       "      <td>fun3_1</td>\n",
       "      <td>0.130149</td>\n",
       "    </tr>\n",
       "    <tr>\n",
       "      <th>5</th>\n",
       "      <td>intel3_1</td>\n",
       "      <td>0.095477</td>\n",
       "    </tr>\n",
       "    <tr>\n",
       "      <th>6</th>\n",
       "      <td>amb3_1</td>\n",
       "      <td>0.121932</td>\n",
       "    </tr>\n",
       "    <tr>\n",
       "      <th>7</th>\n",
       "      <td>date</td>\n",
       "      <td>0.093916</td>\n",
       "    </tr>\n",
       "    <tr>\n",
       "      <th>8</th>\n",
       "      <td>go_out</td>\n",
       "      <td>0.100288</td>\n",
       "    </tr>\n",
       "  </tbody>\n",
       "</table>\n",
       "</div>"
      ],
      "text/plain": [
       "    feature  importance\n",
       "0      goal    0.084691\n",
       "1  exphappy    0.168316\n",
       "2   attr3_1    0.126810\n",
       "3   sinc3_1    0.078420\n",
       "4    fun3_1    0.130149\n",
       "5  intel3_1    0.095477\n",
       "6    amb3_1    0.121932\n",
       "7      date    0.093916\n",
       "8    go_out    0.100288"
      ]
     },
     "execution_count": 85,
     "metadata": {},
     "output_type": "execute_result"
    }
   ],
   "source": [
    "# Fit a classification tree with max_depth =optiized on all data.\n",
    "from sklearn.tree import DecisionTreeClassifier\n",
    "\n",
    "treeclf = DecisionTreeClassifier(max_depth=10, random_state=1)\n",
    "treeclf.fit(X, y)\n",
    "\n",
    "scores = cross_val_score(treeclf, X, y, cv=14, scoring='accuracy')\n",
    "print np.mean(scores)\n",
    "print scores\n",
    "\n",
    "# \"Gini importance\" of each feature: the (normalized) total reduction of error brought by that feature.\n",
    "pd.DataFrame({'feature':X.columns, 'importance':treeclf.feature_importances_})"
   ]
  },
  {
   "cell_type": "code",
   "execution_count": 86,
   "metadata": {},
   "outputs": [
    {
     "name": "stdout",
     "output_type": "stream",
     "text": [
      "0.272727272727\n"
     ]
    },
    {
     "data": {
      "text/plain": [
       "array([[5, 3, 6, 7],\n",
       "       [4, 4, 6, 6],\n",
       "       [4, 3, 4, 3],\n",
       "       [3, 1, 2, 5]])"
      ]
     },
     "execution_count": 86,
     "metadata": {},
     "output_type": "execute_result"
    }
   ],
   "source": [
    "X_train, X_test, y_train, y_test = train_test_split(X,y)\n",
    "\n",
    "treeclf.fit(X_train,y_train)\n",
    "\n",
    "y_pred = treeclf.predict(X_test)\n",
    "\n",
    "print treeclf.score(X_test, y_test) # uses accuracy as score\n",
    "\n",
    "# Let's look at Confusion Matrix\n",
    "metrics.confusion_matrix(y_test, y_pred)"
   ]
  },
  {
   "cell_type": "markdown",
   "metadata": {},
   "source": [
    "### Males"
   ]
  },
  {
   "cell_type": "code",
   "execution_count": 91,
   "metadata": {
    "collapsed": true
   },
   "outputs": [],
   "source": [
    "features = attitude + self_perception + behaviors\n",
    "X = df[['gender'] + features]\n",
    "y = df.attr_o\n",
    "\n",
    "y = y[X.gender==1]\n",
    "X = X[X.gender==1]\n",
    "X.drop(['gender'], axis=1, inplace=True)"
   ]
  },
  {
   "cell_type": "code",
   "execution_count": 92,
   "metadata": {},
   "outputs": [
    {
     "name": "stdout",
     "output_type": "stream",
     "text": [
      "5.0    0.313653\n",
      "7.0    0.273063\n",
      "6.0    0.217712\n",
      "8.0    0.195572\n",
      "Name: attr_o, dtype: float64\n"
     ]
    },
    {
     "data": {
      "image/png": "[encoded data removed]",
      "text/plain": [
       "<matplotlib.figure.Figure at 0x11665fd10>"
      ]
     },
     "metadata": {},
     "output_type": "display_data"
    }
   ],
   "source": [
    "# Some classes have too few members, compress\n",
    "y[y<5]=5\n",
    "y[y>8]=8\n",
    "ax = y.value_counts().sort_index().plot(kind='bar', color='blue')\n",
    "plt.title('Attractiveness Score (Male)')\n",
    "print y.value_counts()/y.count()"
   ]
  },
  {
   "cell_type": "code",
   "execution_count": 93,
   "metadata": {},
   "outputs": [
    {
     "data": {
      "image/png": "[encoded data removed]",
      "text/plain": [
       "<matplotlib.figure.Figure at 0x11670c590>"
      ]
     },
     "metadata": {},
     "output_type": "display_data"
    }
   ],
   "source": [
    "# Let's find optimal depth\n",
    "# List of values to try:\n",
    "max_depth_range = range(1, 20)\n",
    "\n",
    "# List to store the average accuracy for each value of max_depth:\n",
    "acc_scores = []\n",
    "\n",
    "for depth in max_depth_range:\n",
    "    treeclf = DecisionTreeClassifier(max_depth=depth, random_state=1)\n",
    "    scores = cross_val_score(treeclf, X, y, cv=14, scoring='accuracy')\n",
    "    acc_scores.append(np.mean(scores))\n",
    "    \n",
    "# Plot max_depth (x-axis) versus RMSE (y-axis).\n",
    "plt.plot(max_depth_range, acc_scores);\n",
    "plt.xlabel('max_depth');\n",
    "plt.ylabel('Accuracy (higher is better)');"
   ]
  },
  {
   "cell_type": "code",
   "execution_count": 110,
   "metadata": {},
   "outputs": [
    {
     "name": "stdout",
     "output_type": "stream",
     "text": [
      "0.340576007117\n",
      "[ 0.36363636  0.23809524  0.38095238  0.3         0.15789474  0.42105263\n",
      "  0.26315789  0.21052632  0.42105263  0.36842105  0.42105263  0.44444444\n",
      "  0.27777778  0.5       ]\n"
     ]
    },
    {
     "data": {
      "text/html": [
       "<div>\n",
       "<style>\n",
       "    .dataframe thead tr:only-child th {\n",
       "        text-align: right;\n",
       "    }\n",
       "\n",
       "    .dataframe thead th {\n",
       "        text-align: left;\n",
       "    }\n",
       "\n",
       "    .dataframe tbody tr th {\n",
       "        vertical-align: top;\n",
       "    }\n",
       "</style>\n",
       "<table border=\"1\" class=\"dataframe\">\n",
       "  <thead>\n",
       "    <tr style=\"text-align: right;\">\n",
       "      <th></th>\n",
       "      <th>feature</th>\n",
       "      <th>importance</th>\n",
       "    </tr>\n",
       "  </thead>\n",
       "  <tbody>\n",
       "    <tr>\n",
       "      <th>0</th>\n",
       "      <td>goal</td>\n",
       "      <td>0.000000</td>\n",
       "    </tr>\n",
       "    <tr>\n",
       "      <th>1</th>\n",
       "      <td>exphappy</td>\n",
       "      <td>0.000000</td>\n",
       "    </tr>\n",
       "    <tr>\n",
       "      <th>2</th>\n",
       "      <td>attr3_1</td>\n",
       "      <td>0.163618</td>\n",
       "    </tr>\n",
       "    <tr>\n",
       "      <th>3</th>\n",
       "      <td>sinc3_1</td>\n",
       "      <td>0.000000</td>\n",
       "    </tr>\n",
       "    <tr>\n",
       "      <th>4</th>\n",
       "      <td>fun3_1</td>\n",
       "      <td>0.000000</td>\n",
       "    </tr>\n",
       "    <tr>\n",
       "      <th>5</th>\n",
       "      <td>intel3_1</td>\n",
       "      <td>0.000000</td>\n",
       "    </tr>\n",
       "    <tr>\n",
       "      <th>6</th>\n",
       "      <td>amb3_1</td>\n",
       "      <td>0.000000</td>\n",
       "    </tr>\n",
       "    <tr>\n",
       "      <th>7</th>\n",
       "      <td>date</td>\n",
       "      <td>0.245139</td>\n",
       "    </tr>\n",
       "    <tr>\n",
       "      <th>8</th>\n",
       "      <td>go_out</td>\n",
       "      <td>0.591242</td>\n",
       "    </tr>\n",
       "  </tbody>\n",
       "</table>\n",
       "</div>"
      ],
      "text/plain": [
       "    feature  importance\n",
       "0      goal    0.000000\n",
       "1  exphappy    0.000000\n",
       "2   attr3_1    0.163618\n",
       "3   sinc3_1    0.000000\n",
       "4    fun3_1    0.000000\n",
       "5  intel3_1    0.000000\n",
       "6    amb3_1    0.000000\n",
       "7      date    0.245139\n",
       "8    go_out    0.591242"
      ]
     },
     "execution_count": 110,
     "metadata": {},
     "output_type": "execute_result"
    }
   ],
   "source": [
    "# Fit a classification tree with max_depth =optiized on all data.\n",
    "from sklearn.tree import DecisionTreeClassifier\n",
    "\n",
    "treeclf = DecisionTreeClassifier(max_depth=2, random_state=1)\n",
    "treeclf.fit(X, y)\n",
    "\n",
    "scores = cross_val_score(treeclf, X, y, cv=14, scoring='accuracy')\n",
    "print np.mean(scores)\n",
    "print scores\n",
    "\n",
    "# \"Gini importance\" of each feature: the (normalized) total reduction of error brought by that feature.\n",
    "pd.DataFrame({'feature':X.columns, 'importance':treeclf.feature_importances_})"
   ]
  },
  {
   "cell_type": "code",
   "execution_count": 112,
   "metadata": {},
   "outputs": [],
   "source": [
    "# Create a Graphviz file.\n",
    "from sklearn.tree import export_graphviz\n",
    "export_graphviz(treeclf, out_file='./tree1.dot', feature_names=X.columns, class_names=['5','6','7','8'])\n",
    "!dot -Tpng tree1.dot -o tree1.png"
   ]
  },
  {
   "cell_type": "code",
   "execution_count": 106,
   "metadata": {},
   "outputs": [
    {
     "name": "stdout",
     "output_type": "stream",
     "text": [
      "0.367647058824\n"
     ]
    },
    {
     "data": {
      "text/plain": [
       "array([[14,  1,  9,  2],\n",
       "       [ 2,  0,  8,  1],\n",
       "       [ 4,  1,  8,  4],\n",
       "       [ 4,  1,  6,  3]])"
      ]
     },
     "execution_count": 106,
     "metadata": {},
     "output_type": "execute_result"
    }
   ],
   "source": [
    "X_train, X_test, y_train, y_test = train_test_split(X,y)\n",
    "\n",
    "treeclf.fit(X_train,y_train)\n",
    "\n",
    "y_pred = treeclf.predict(X_test)\n",
    "\n",
    "print treeclf.score(X_test, y_test) # uses accuracy as score\n",
    "\n",
    "# Let's look at Confusion Matrix\n",
    "metrics.confusion_matrix(y_test, y_pred)"
   ]
  },
  {
   "cell_type": "code",
   "execution_count": 113,
   "metadata": {},
   "outputs": [
    {
     "name": "stdout",
     "output_type": "stream",
     "text": [
      "0.308823529412\n"
     ]
    },
    {
     "data": {
      "text/plain": [
       "array([[ 6,  0,  8,  4],\n",
       "       [ 4,  0,  6, 10],\n",
       "       [ 3,  0,  7,  6],\n",
       "       [ 3,  0,  3,  8]])"
      ]
     },
     "execution_count": 113,
     "metadata": {},
     "output_type": "execute_result"
    }
   ],
   "source": [
    "X_train, X_test, y_train, y_test = train_test_split(X,y)\n",
    "\n",
    "treeclf.fit(X_train,y_train)\n",
    "\n",
    "y_pred = treeclf.predict(X_test)\n",
    "\n",
    "print treeclf.score(X_test, y_test) # uses accuracy as score\n",
    "\n",
    "# Let's look at Confusion Matrix\n",
    "metrics.confusion_matrix(y_test, y_pred)"
   ]
  },
  {
   "cell_type": "code",
   "execution_count": 114,
   "metadata": {},
   "outputs": [
    {
     "name": "stdout",
     "output_type": "stream",
     "text": [
      "0.382352941176\n"
     ]
    },
    {
     "data": {
      "text/plain": [
       "array([[11,  1,  8,  2],\n",
       "       [ 3,  0,  7,  4],\n",
       "       [ 2,  0, 13,  1],\n",
       "       [ 2,  1, 11,  2]])"
      ]
     },
     "execution_count": 114,
     "metadata": {},
     "output_type": "execute_result"
    }
   ],
   "source": [
    "X_train, X_test, y_train, y_test = train_test_split(X,y)\n",
    "\n",
    "treeclf.fit(X_train,y_train)\n",
    "\n",
    "y_pred = treeclf.predict(X_test)\n",
    "\n",
    "print treeclf.score(X_test, y_test) # uses accuracy as score\n",
    "\n",
    "# Let's look at Confusion Matrix\n",
    "metrics.confusion_matrix(y_test, y_pred)"
   ]
  },
  {
   "cell_type": "code",
   "execution_count": null,
   "metadata": {
    "collapsed": true
   },
   "outputs": [],
   "source": []
  }
 ],
 "metadata": {
  "kernelspec": {
   "display_name": "Python 2",
   "language": "python",
   "name": "python2"
  },
  "language_info": {
   "codemirror_mode": {
    "name": "ipython",
    "version": 2
   },
   "file_extension": ".py",
   "mimetype": "text/x-python",
   "name": "python",
   "nbconvert_exporter": "python",
   "pygments_lexer": "ipython2",
   "version": "2.7.13"
  }
 },
 "nbformat": 4,
 "nbformat_minor": 2
}
